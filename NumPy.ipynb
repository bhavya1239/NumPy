{
  "nbformat": 4,
  "nbformat_minor": 0,
  "metadata": {
    "colab": {
      "provenance": [],
      "authorship_tag": "ABX9TyPUNeEzmXdH0/+Ph0XYsTiO",
      "include_colab_link": true
    },
    "kernelspec": {
      "name": "python3",
      "display_name": "Python 3"
    },
    "language_info": {
      "name": "python"
    }
  },
  "cells": [
    {
      "cell_type": "markdown",
      "metadata": {
        "id": "view-in-github",
        "colab_type": "text"
      },
      "source": [
        "<a href=\"https://colab.research.google.com/github/bhavya1239/NumPy/blob/main/NumPy.ipynb\" target=\"_parent\"><img src=\"https://colab.research.google.com/assets/colab-badge.svg\" alt=\"Open In Colab\"/></a>"
      ]
    },
    {
      "cell_type": "code",
      "execution_count": null,
      "metadata": {
        "id": "bc6AjZg_6niy"
      },
      "outputs": [],
      "source": [
        "import numpy\n"
      ]
    },
    {
      "cell_type": "code",
      "source": [
        "import numpy as np\n",
        "y=[1,2,3,4]\n",
        "print(y)\n"
      ],
      "metadata": {
        "colab": {
          "base_uri": "https://localhost:8080/"
        },
        "id": "3_0srFNz7B0Y",
        "outputId": "04bbe3ca-a58d-44ba-bfa1-d135fe945065"
      },
      "execution_count": null,
      "outputs": [
        {
          "output_type": "stream",
          "name": "stdout",
          "text": [
            "[1, 2, 3, 4]\n"
          ]
        }
      ]
    },
    {
      "cell_type": "code",
      "source": [
        "#tell the execution time of single line\n",
        "#for list\n",
        "%timeit [j**4 for j in range(1,9)]\n"
      ],
      "metadata": {
        "colab": {
          "base_uri": "https://localhost:8080/"
        },
        "id": "SIqjlkqw7h_A",
        "outputId": "96bd3f92-31e9-4b90-ced0-e7e43db9f634"
      },
      "execution_count": null,
      "outputs": [
        {
          "output_type": "stream",
          "name": "stdout",
          "text": [
            "2.5 µs ± 54 ns per loop (mean ± std. dev. of 7 runs, 100000 loops each)\n"
          ]
        }
      ]
    },
    {
      "cell_type": "code",
      "source": [
        "#tell the execution time of single line\n",
        "#for array\n",
        "#arange function - creates an array from starting point to end point\n",
        "import numpy as np\n",
        "\n",
        "%timeit np.arange(1,9)**4"
      ],
      "metadata": {
        "colab": {
          "base_uri": "https://localhost:8080/"
        },
        "id": "4rr9HDZs7iGn",
        "outputId": "23d162a5-e92b-4968-ecbb-6a951a93e7ac"
      },
      "execution_count": null,
      "outputs": [
        {
          "output_type": "stream",
          "name": "stdout",
          "text": [
            "2.36 µs ± 48.4 ns per loop (mean ± std. dev. of 7 runs, 100000 loops each)\n"
          ]
        }
      ]
    },
    {
      "cell_type": "code",
      "source": [
        "#Array\n",
        "import numpy as np\n",
        "\n",
        "x=[1,2,3,4]\n",
        "y = np.array(x)\n",
        "print(y)\n",
        "print(type(y))\n",
        "print(y.ndim)"
      ],
      "metadata": {
        "colab": {
          "base_uri": "https://localhost:8080/"
        },
        "id": "O7rL5dy27iJf",
        "outputId": "37d7833f-60e9-4750-8d9f-2ae966b8b5ee"
      },
      "execution_count": null,
      "outputs": [
        {
          "output_type": "stream",
          "name": "stdout",
          "text": [
            "[1 2 3 4]\n",
            "<class 'numpy.ndarray'>\n",
            "1\n"
          ]
        }
      ]
    },
    {
      "cell_type": "code",
      "source": [
        "l=[]\n",
        "for i in range(1,5):\n",
        "  int_1 = int(input(\"Enter: \"))\n",
        "  l.append(int_1)\n",
        "print(np.array(l))"
      ],
      "metadata": {
        "colab": {
          "base_uri": "https://localhost:8080/"
        },
        "id": "8W3R3M1x7iMx",
        "outputId": "8b248fc7-ce85-46ea-e836-174c845677ba"
      },
      "execution_count": null,
      "outputs": [
        {
          "output_type": "stream",
          "name": "stdout",
          "text": [
            "Enter: 14\n",
            "Enter: 15\n",
            "Enter: 15\n",
            "Enter: 45\n",
            "[14 15 15 45]\n"
          ]
        }
      ]
    },
    {
      "cell_type": "code",
      "source": [
        "#2-D Array\n",
        "#No. of data should be same\n",
        "ar2= np.array([[1,2,3,4],[1,2,3,4]])\n",
        "print(ar2)\n",
        "print(ar2.ndim)"
      ],
      "metadata": {
        "colab": {
          "base_uri": "https://localhost:8080/"
        },
        "id": "qZ67dIcr7iPL",
        "outputId": "fc0f2b14-97a7-4a0f-94cc-db5d77c41ddb"
      },
      "execution_count": null,
      "outputs": [
        {
          "output_type": "stream",
          "name": "stdout",
          "text": [
            "[[1 2 3 4]\n",
            " [1 2 3 4]]\n",
            "2\n"
          ]
        }
      ]
    },
    {
      "cell_type": "code",
      "source": [
        "ar3= np.array([[[1,2,3,4],[1,2,3,4],[1,2,3,4]]])\n",
        "print(ar3)\n",
        "print(ar3.ndim)"
      ],
      "metadata": {
        "colab": {
          "base_uri": "https://localhost:8080/"
        },
        "id": "9rBj4_ME7iSl",
        "outputId": "e9532d3e-8958-479d-d265-475cd8228d88"
      },
      "execution_count": null,
      "outputs": [
        {
          "output_type": "stream",
          "name": "stdout",
          "text": [
            "[[[1 2 3 4]\n",
            "  [1 2 3 4]\n",
            "  [1 2 3 4]]]\n",
            "3\n"
          ]
        }
      ]
    },
    {
      "cell_type": "code",
      "source": [
        "arn = np.array([1,2,3,4],ndmin = 10)\n",
        "print(arn)\n",
        "print(arn.ndim)"
      ],
      "metadata": {
        "colab": {
          "base_uri": "https://localhost:8080/"
        },
        "id": "M4PRuXqTA1ki",
        "outputId": "28803712-7eae-4f6d-b022-c5ed8b2700c5"
      },
      "execution_count": null,
      "outputs": [
        {
          "output_type": "stream",
          "name": "stdout",
          "text": [
            "[[[[[[[[[[1 2 3 4]]]]]]]]]]\n",
            "10\n"
          ]
        }
      ]
    },
    {
      "cell_type": "code",
      "source": [
        "#ZEROS NUMPY\n",
        "import numpy as np\n",
        "ar_zero = np.zeros(4)\n",
        "print(ar_zero)"
      ],
      "metadata": {
        "colab": {
          "base_uri": "https://localhost:8080/"
        },
        "id": "wP-BOdd5A10T",
        "outputId": "2a5112d3-23b4-4797-d9a4-48744591b0d1"
      },
      "execution_count": null,
      "outputs": [
        {
          "output_type": "stream",
          "name": "stdout",
          "text": [
            "[0. 0. 0. 0.]\n"
          ]
        }
      ]
    },
    {
      "cell_type": "code",
      "source": [
        "ar_zero = np.zeros(4)\n",
        "ar_zero1 = np.zeros((3,4))\n",
        "print(ar_zero)\n",
        "print(ar_zero1)"
      ],
      "metadata": {
        "colab": {
          "base_uri": "https://localhost:8080/"
        },
        "id": "JICE-jr7A12W",
        "outputId": "44705d72-6e1f-49fc-9b42-ebaa8ad44e1e"
      },
      "execution_count": null,
      "outputs": [
        {
          "output_type": "stream",
          "name": "stdout",
          "text": [
            "[0. 0. 0. 0.]\n",
            "[[0. 0. 0. 0.]\n",
            " [0. 0. 0. 0.]\n",
            " [0. 0. 0. 0.]]\n"
          ]
        }
      ]
    },
    {
      "cell_type": "code",
      "source": [
        "ar_zero = np.zeros(4)\n",
        "ar_zero1 = np.zeros((3,4))\n",
        "print(ar_zero)\n",
        "print()\n",
        "print(ar_zero1)"
      ],
      "metadata": {
        "colab": {
          "base_uri": "https://localhost:8080/"
        },
        "id": "pm0Lsh0wA135",
        "outputId": "3fc6c83d-3906-47a1-bf58-40b237f2a789"
      },
      "execution_count": null,
      "outputs": [
        {
          "output_type": "stream",
          "name": "stdout",
          "text": [
            "[0. 0. 0. 0.]\n",
            "\n",
            "[[0. 0. 0. 0.]\n",
            " [0. 0. 0. 0.]\n",
            " [0. 0. 0. 0.]]\n"
          ]
        }
      ]
    },
    {
      "cell_type": "code",
      "source": [
        "#ONES\n",
        "ar_one = np.ones(4)\n",
        "print(ar_one)"
      ],
      "metadata": {
        "colab": {
          "base_uri": "https://localhost:8080/"
        },
        "id": "dRjC9Nl2A159",
        "outputId": "1bb7331a-6497-45ee-9292-26273dba2aef"
      },
      "execution_count": null,
      "outputs": [
        {
          "output_type": "stream",
          "name": "stdout",
          "text": [
            "[1. 1. 1. 1.]\n"
          ]
        }
      ]
    },
    {
      "cell_type": "code",
      "source": [
        "#EMPTY\n",
        "#print previous data\n",
        "ar_em = np.empty(4)\n",
        "print(ar_em)"
      ],
      "metadata": {
        "colab": {
          "base_uri": "https://localhost:8080/"
        },
        "id": "rMhvKLnuA17U",
        "outputId": "e98b9964-337d-40a8-a2ff-f5f55e10dc24"
      },
      "execution_count": null,
      "outputs": [
        {
          "output_type": "stream",
          "name": "stdout",
          "text": [
            "[1. 1. 1. 1.]\n"
          ]
        }
      ]
    },
    {
      "cell_type": "code",
      "source": [
        "#RANGE\n",
        "ar_rn = np.arange(4)\n",
        "print(ar_rn)"
      ],
      "metadata": {
        "colab": {
          "base_uri": "https://localhost:8080/"
        },
        "id": "dpQ_FrmSA1-t",
        "outputId": "05ef2c86-27f2-40e3-83d9-b7c1f21179df"
      },
      "execution_count": null,
      "outputs": [
        {
          "output_type": "stream",
          "name": "stdout",
          "text": [
            "[0 1 2 3]\n"
          ]
        }
      ]
    },
    {
      "cell_type": "code",
      "source": [
        "#DIAGONAL\n",
        "ar_dia = np.eye(3)\n",
        "print(ar_dia)"
      ],
      "metadata": {
        "colab": {
          "base_uri": "https://localhost:8080/"
        },
        "id": "azeNMrgdDWHw",
        "outputId": "6ed654fc-0b1a-4dcf-f123-762262e1a39a"
      },
      "execution_count": null,
      "outputs": [
        {
          "output_type": "stream",
          "name": "stdout",
          "text": [
            "[[1. 0. 0.]\n",
            " [0. 1. 0.]\n",
            " [0. 0. 1.]]\n"
          ]
        }
      ]
    },
    {
      "cell_type": "code",
      "source": [
        "ar_dia = np.eye(3,5)\n",
        "print(ar_dia)"
      ],
      "metadata": {
        "colab": {
          "base_uri": "https://localhost:8080/"
        },
        "id": "yWbi0z_8DWJk",
        "outputId": "66a2e3a2-2382-4d8d-8482-d292c54161a5"
      },
      "execution_count": null,
      "outputs": [
        {
          "output_type": "stream",
          "name": "stdout",
          "text": [
            "[[1. 0. 0. 0. 0.]\n",
            " [0. 1. 0. 0. 0.]\n",
            " [0. 0. 1. 0. 0.]]\n"
          ]
        }
      ]
    },
    {
      "cell_type": "code",
      "source": [
        "##LINESPACE\n",
        "ar_lin = np.linspace(0,20,num=5)\n",
        "print(ar_lin)"
      ],
      "metadata": {
        "colab": {
          "base_uri": "https://localhost:8080/"
        },
        "id": "Nc0bGRaWDWLR",
        "outputId": "50168e19-dc1c-40a9-8782-9e53e0736eae"
      },
      "execution_count": null,
      "outputs": [
        {
          "output_type": "stream",
          "name": "stdout",
          "text": [
            "[ 0.  5. 10. 15. 20.]\n"
          ]
        }
      ]
    },
    {
      "cell_type": "code",
      "source": [
        "#RANDOM\n",
        "#rand()\n",
        "#values btw 0 to 1\n",
        "var = np.random.rand(4)\n",
        "print(var)"
      ],
      "metadata": {
        "colab": {
          "base_uri": "https://localhost:8080/"
        },
        "id": "ADR2ogQkDWNK",
        "outputId": "9bf6ee4e-90e7-4e07-b1a3-8288d89e0782"
      },
      "execution_count": null,
      "outputs": [
        {
          "output_type": "stream",
          "name": "stdout",
          "text": [
            "[0.4280732  0.30262732 0.10767408 0.85641464]\n"
          ]
        }
      ]
    },
    {
      "cell_type": "code",
      "source": [
        "var1 = np.random.rand(2,5)\n",
        "print(var1)"
      ],
      "metadata": {
        "colab": {
          "base_uri": "https://localhost:8080/"
        },
        "id": "bKry3FXsDWOz",
        "outputId": "799aba4a-2c3b-490a-eff3-9c0b65f54afe"
      },
      "execution_count": null,
      "outputs": [
        {
          "output_type": "stream",
          "name": "stdout",
          "text": [
            "[[0.3830293  0.05015699 0.01690797 0.91233849 0.76797304]\n",
            " [0.64037806 0.00990656 0.67330845 0.07068033 0.41343508]]\n"
          ]
        }
      ]
    },
    {
      "cell_type": "code",
      "source": [
        "#RANDN()\n",
        "var2 = np.random.randn(4)\n",
        "print(var2)"
      ],
      "metadata": {
        "colab": {
          "base_uri": "https://localhost:8080/"
        },
        "id": "3RsIEW5gDWQT",
        "outputId": "bd13a8bd-373f-4c94-e6f5-22e5d5db48d6"
      },
      "execution_count": null,
      "outputs": [
        {
          "output_type": "stream",
          "name": "stdout",
          "text": [
            "[-1.60767123  0.28836626 -1.61126431 -1.01678427]\n"
          ]
        }
      ]
    },
    {
      "cell_type": "code",
      "source": [
        "var3 = np.random.randn(2,5)\n",
        "print(var3)"
      ],
      "metadata": {
        "colab": {
          "base_uri": "https://localhost:8080/"
        },
        "id": "iudZt6vsDWR0",
        "outputId": "e051de57-5c3e-4b75-f66d-c066df5a51c9"
      },
      "execution_count": null,
      "outputs": [
        {
          "output_type": "stream",
          "name": "stdout",
          "text": [
            "[[-0.17879578 -0.24721461  0.98240757 -1.68879895 -0.62617818]\n",
            " [ 0.19124523 -1.98820183  0.1879668   0.59014765 -1.13441141]]\n"
          ]
        }
      ]
    },
    {
      "cell_type": "code",
      "source": [
        "#RANF()\n",
        "var4 = np.random.ranf(5)\n",
        "print(var4)"
      ],
      "metadata": {
        "colab": {
          "base_uri": "https://localhost:8080/"
        },
        "id": "SbPpO4RJDWVQ",
        "outputId": "2a682a99-8bbb-4e46-cb86-bb1f7f9d9f8d"
      },
      "execution_count": null,
      "outputs": [
        {
          "output_type": "stream",
          "name": "stdout",
          "text": [
            "[0.99227389 0.92012456 0.68002897 0.97315691 0.34933144]\n"
          ]
        }
      ]
    },
    {
      "cell_type": "code",
      "source": [
        "#RANDINT()\n",
        "#var5 = np.random.randint(min,max,total_values)\n",
        "var5 = np.random.randint(5,20,5)\n",
        "print(var5)"
      ],
      "metadata": {
        "colab": {
          "base_uri": "https://localhost:8080/"
        },
        "id": "ej3WgNZbGjJU",
        "outputId": "fea47249-6c38-4490-8efa-f381bd059fb0"
      },
      "execution_count": null,
      "outputs": [
        {
          "output_type": "stream",
          "name": "stdout",
          "text": [
            "[17 11 10 10 17]\n"
          ]
        }
      ]
    },
    {
      "cell_type": "code",
      "source": [
        "#DATATYPE\n",
        "\n",
        "\n",
        "var = np.array([1,2,3,4])\n",
        "print(\"Data Type: \",var.dtype)"
      ],
      "metadata": {
        "colab": {
          "base_uri": "https://localhost:8080/"
        },
        "id": "Qzf9XQi2GjLO",
        "outputId": "cc8a0b7f-5542-45fe-8b6c-950cbd27823a"
      },
      "execution_count": null,
      "outputs": [
        {
          "output_type": "stream",
          "name": "stdout",
          "text": [
            "Data Type:  int64\n"
          ]
        }
      ]
    },
    {
      "cell_type": "code",
      "source": [
        "var = np.array([1.5,2.5,3.5,4.5])\n",
        "print(\"Data Type: \",var.dtype)"
      ],
      "metadata": {
        "colab": {
          "base_uri": "https://localhost:8080/"
        },
        "id": "J-W8u9yeGjM5",
        "outputId": "5d4fac13-33ba-4659-dcfe-2d4960550cbc"
      },
      "execution_count": null,
      "outputs": [
        {
          "output_type": "stream",
          "name": "stdout",
          "text": [
            "Data Type:  float64\n"
          ]
        }
      ]
    },
    {
      "cell_type": "code",
      "source": [
        "var = np.array([\"A\",\"B\",\"C\"])\n",
        "print(\"Data Type: \",var.dtype)\n"
      ],
      "metadata": {
        "colab": {
          "base_uri": "https://localhost:8080/"
        },
        "id": "vlSz8RWoGjQc",
        "outputId": "d11b8dc7-78c0-4407-b1a9-406583be410b"
      },
      "execution_count": null,
      "outputs": [
        {
          "output_type": "stream",
          "name": "stdout",
          "text": [
            "Data Type:  <U1\n"
          ]
        }
      ]
    },
    {
      "cell_type": "code",
      "source": [
        "var = np.array([1,2,3,4,\"A\"])\n",
        "print(\"Data Type: \",var.dtype)"
      ],
      "metadata": {
        "colab": {
          "base_uri": "https://localhost:8080/"
        },
        "id": "HjnrmX69R3rd",
        "outputId": "96038a7b-6f6a-45ad-aad8-47769f382c34"
      },
      "execution_count": null,
      "outputs": [
        {
          "output_type": "stream",
          "name": "stdout",
          "text": [
            "Data Type:  <U21\n"
          ]
        }
      ]
    },
    {
      "cell_type": "code",
      "source": [
        "#conversion\n",
        "q = np.array([1,2,3,4],dtype = np.int8)\n",
        "print(\"Data Type\",q.dtype)\n",
        "print(q)"
      ],
      "metadata": {
        "colab": {
          "base_uri": "https://localhost:8080/"
        },
        "id": "Zr0_ve6dR3tr",
        "outputId": "678722c7-7e8b-4f77-d026-f663db5510b0"
      },
      "execution_count": null,
      "outputs": [
        {
          "output_type": "stream",
          "name": "stdout",
          "text": [
            "Data Type int8\n",
            "[1 2 3 4]\n"
          ]
        }
      ]
    },
    {
      "cell_type": "code",
      "source": [
        "#shortcut\n",
        "q1 = np.array([1,2,3,4],dtype = \"f\")\n",
        "print(\"Data Type\",q1.dtype)\n",
        "print(q1)"
      ],
      "metadata": {
        "colab": {
          "base_uri": "https://localhost:8080/"
        },
        "id": "7ZT8eMgCR3wQ",
        "outputId": "2377a096-a657-420a-8a3a-8082af9f6c45"
      },
      "execution_count": null,
      "outputs": [
        {
          "output_type": "stream",
          "name": "stdout",
          "text": [
            "Data Type float32\n",
            "[1. 2. 3. 4.]\n"
          ]
        }
      ]
    },
    {
      "cell_type": "code",
      "source": [
        "q2 = np.array([1,2,3,4])\n",
        "new = np.float32(q2)\n",
        "print(\"Data Type\",q2.dtype)\n",
        "print(\"Data Type\",new.dtype)\n",
        "print(q2)\n",
        "print(new)"
      ],
      "metadata": {
        "colab": {
          "base_uri": "https://localhost:8080/"
        },
        "id": "2ORbk_ecR3yN",
        "outputId": "1d3d339c-cdd4-4290-d14f-7ff6d0cb9d36"
      },
      "execution_count": null,
      "outputs": [
        {
          "output_type": "stream",
          "name": "stdout",
          "text": [
            "Data Type int64\n",
            "Data Type float32\n",
            "[1 2 3 4]\n",
            "[1. 2. 3. 4.]\n"
          ]
        }
      ]
    },
    {
      "cell_type": "code",
      "source": [
        "q2 = np.array([1,2,3,4])\n",
        "new = np.float32(q2)\n",
        "\n",
        "new1 = np.int_(new\n",
        "               )\n",
        "print(\"Data Type\",q2.dtype)\n",
        "print(\"Data Type\",new.dtype)\n",
        "print(\"Data Type\",new1.dtype)\n",
        "print(q2)\n",
        "print(new)\n",
        "print(new1)"
      ],
      "metadata": {
        "colab": {
          "base_uri": "https://localhost:8080/"
        },
        "id": "XcXjZWDNR3zq",
        "outputId": "29e2d660-017e-4bfe-866c-da95a31b3d4a"
      },
      "execution_count": null,
      "outputs": [
        {
          "output_type": "stream",
          "name": "stdout",
          "text": [
            "Data Type int64\n",
            "Data Type float32\n",
            "Data Type int64\n",
            "[1 2 3 4]\n",
            "[1. 2. 3. 4.]\n",
            "[1 2 3 4]\n"
          ]
        }
      ]
    },
    {
      "cell_type": "code",
      "source": [
        "w2 = np.array([1,2,3,4])\n",
        "\n",
        "new11 = w2.astype(float)\n",
        "print(w2)\n",
        "print(new11)"
      ],
      "metadata": {
        "colab": {
          "base_uri": "https://localhost:8080/"
        },
        "id": "5eiJwjq9R31I",
        "outputId": "01b96e66-a8b4-4082-b8da-b5963e90d65d"
      },
      "execution_count": null,
      "outputs": [
        {
          "output_type": "stream",
          "name": "stdout",
          "text": [
            "[1 2 3 4]\n",
            "[1. 2. 3. 4.]\n"
          ]
        }
      ]
    },
    {
      "cell_type": "code",
      "source": [
        "#ARITHMATIC OPERATION"
      ],
      "metadata": {
        "id": "PRZXYgSGR33A"
      },
      "execution_count": null,
      "outputs": []
    },
    {
      "cell_type": "code",
      "source": [
        "#add\n",
        "s = np.array([1,2,3,4])\n",
        "sadd = s + 3\n",
        "print(sadd)"
      ],
      "metadata": {
        "colab": {
          "base_uri": "https://localhost:8080/"
        },
        "id": "sh8G2AsZR36K",
        "outputId": "f42f7649-cf6c-4bfd-fcb7-8ac721405ce2"
      },
      "execution_count": null,
      "outputs": [
        {
          "output_type": "stream",
          "name": "stdout",
          "text": [
            "[4 5 6 7]\n"
          ]
        }
      ]
    },
    {
      "cell_type": "code",
      "source": [
        "s = np.array([1,2,3,4])\n",
        "d = np.array([1,2,3,4])\n",
        "sadd = s + d\n",
        "print(sadd)"
      ],
      "metadata": {
        "colab": {
          "base_uri": "https://localhost:8080/"
        },
        "id": "AbDOSCDqR38I",
        "outputId": "dc2c9875-414a-477c-f7fd-654ef2c8c441"
      },
      "execution_count": null,
      "outputs": [
        {
          "output_type": "stream",
          "name": "stdout",
          "text": [
            "[2 4 6 8]\n"
          ]
        }
      ]
    },
    {
      "cell_type": "code",
      "source": [
        "s = np.array([1,2,3,4])\n",
        "d = np.array([1,2,3,4])\n",
        "sadd = np.add(s,d)\n",
        "print(sadd)"
      ],
      "metadata": {
        "colab": {
          "base_uri": "https://localhost:8080/"
        },
        "id": "aKrNPJT5V_qL",
        "outputId": "50169e97-b01a-4fdb-d55d-afd9c3e34916"
      },
      "execution_count": null,
      "outputs": [
        {
          "output_type": "stream",
          "name": "stdout",
          "text": [
            "[2 4 6 8]\n"
          ]
        }
      ]
    },
    {
      "cell_type": "code",
      "source": [
        "#SUBTRACT"
      ],
      "metadata": {
        "id": "VV3Oscg7R3_h"
      },
      "execution_count": null,
      "outputs": []
    },
    {
      "cell_type": "code",
      "source": [
        "s = np.array([1,2,3,4])\n",
        "d = np.array([1,2,3,4])\n",
        "ssub = s - d\n",
        "print(ssub)"
      ],
      "metadata": {
        "colab": {
          "base_uri": "https://localhost:8080/"
        },
        "id": "Rjw9-qnLVk9u",
        "outputId": "00ee4960-27fe-4319-f2f8-7199db4cabf6"
      },
      "execution_count": null,
      "outputs": [
        {
          "output_type": "stream",
          "name": "stdout",
          "text": [
            "[0 0 0 0]\n"
          ]
        }
      ]
    },
    {
      "cell_type": "code",
      "source": [
        "#MULTIPLY"
      ],
      "metadata": {
        "id": "u0naVxvkVk_i"
      },
      "execution_count": null,
      "outputs": []
    },
    {
      "cell_type": "code",
      "source": [
        "s = np.array([1,2,3,4])\n",
        "d = np.array([1,2,3,4])\n",
        "smulti = s * d\n",
        "print(smulti)"
      ],
      "metadata": {
        "colab": {
          "base_uri": "https://localhost:8080/"
        },
        "id": "4dZzFA0uVlBU",
        "outputId": "98fb1dad-54b5-497d-b595-0c8ce97ba005"
      },
      "execution_count": null,
      "outputs": [
        {
          "output_type": "stream",
          "name": "stdout",
          "text": [
            "[ 1  4  9 16]\n"
          ]
        }
      ]
    },
    {
      "cell_type": "code",
      "source": [
        "#DIVIDE"
      ],
      "metadata": {
        "id": "PKvLLsbdVlDX"
      },
      "execution_count": null,
      "outputs": []
    },
    {
      "cell_type": "code",
      "source": [
        "s = np.array([1,2,3,4])\n",
        "d = np.array([1,2,3,4])\n",
        "sdiv = s / d\n",
        "print(sdiv)"
      ],
      "metadata": {
        "colab": {
          "base_uri": "https://localhost:8080/"
        },
        "id": "Db59GA2AVlFE",
        "outputId": "a361be8d-cf0a-4ea8-d3e5-006dc4f4f3fb"
      },
      "execution_count": null,
      "outputs": [
        {
          "output_type": "stream",
          "name": "stdout",
          "text": [
            "[1. 1. 1. 1.]\n"
          ]
        }
      ]
    },
    {
      "cell_type": "code",
      "source": [
        "#MOD"
      ],
      "metadata": {
        "id": "uXRNLG0bVlGp"
      },
      "execution_count": null,
      "outputs": []
    },
    {
      "cell_type": "code",
      "source": [
        "s = np.array([1,2,3,4])\n",
        "d = np.array([1,2,3,4])\n",
        "smod = s % d\n",
        "print(smod)"
      ],
      "metadata": {
        "colab": {
          "base_uri": "https://localhost:8080/"
        },
        "id": "3WKO4Gq5VlIC",
        "outputId": "2a5935c5-f82a-45ce-8ffc-26ab79294d9f"
      },
      "execution_count": null,
      "outputs": [
        {
          "output_type": "stream",
          "name": "stdout",
          "text": [
            "[0 0 0 0]\n"
          ]
        }
      ]
    },
    {
      "cell_type": "code",
      "source": [
        "#2D ARRAY"
      ],
      "metadata": {
        "id": "uGAvJh-fVlJ9"
      },
      "execution_count": null,
      "outputs": []
    },
    {
      "cell_type": "code",
      "source": [
        "g = np.array([1,2,3,4],[1,2,3,4])\n",
        "f = np.array([1,2,3,4],[1,2,3,4])\n",
        "sadd2 = g + f\n",
        "print(sadd2)"
      ],
      "metadata": {
        "colab": {
          "base_uri": "https://localhost:8080/",
          "height": 217
        },
        "id": "pVlAjrx4VlNl",
        "outputId": "674d5143-4898-4566-9182-6b9741cbb5fa"
      },
      "execution_count": null,
      "outputs": [
        {
          "output_type": "error",
          "ename": "TypeError",
          "evalue": "ignored",
          "traceback": [
            "\u001b[0;31m---------------------------------------------------------------------------\u001b[0m",
            "\u001b[0;31mTypeError\u001b[0m                                 Traceback (most recent call last)",
            "\u001b[0;32m<ipython-input-60-0c35202307e7>\u001b[0m in \u001b[0;36m<cell line: 1>\u001b[0;34m()\u001b[0m\n\u001b[0;32m----> 1\u001b[0;31m \u001b[0mg\u001b[0m \u001b[0;34m=\u001b[0m \u001b[0mnp\u001b[0m\u001b[0;34m.\u001b[0m\u001b[0marray\u001b[0m\u001b[0;34m(\u001b[0m\u001b[0;34m[\u001b[0m\u001b[0;36m1\u001b[0m\u001b[0;34m,\u001b[0m\u001b[0;36m2\u001b[0m\u001b[0;34m,\u001b[0m\u001b[0;36m3\u001b[0m\u001b[0;34m,\u001b[0m\u001b[0;36m4\u001b[0m\u001b[0;34m]\u001b[0m\u001b[0;34m,\u001b[0m\u001b[0;34m[\u001b[0m\u001b[0;36m1\u001b[0m\u001b[0;34m,\u001b[0m\u001b[0;36m2\u001b[0m\u001b[0;34m,\u001b[0m\u001b[0;36m3\u001b[0m\u001b[0;34m,\u001b[0m\u001b[0;36m4\u001b[0m\u001b[0;34m]\u001b[0m\u001b[0;34m)\u001b[0m\u001b[0;34m\u001b[0m\u001b[0;34m\u001b[0m\u001b[0m\n\u001b[0m\u001b[1;32m      2\u001b[0m \u001b[0mf\u001b[0m \u001b[0;34m=\u001b[0m \u001b[0mnp\u001b[0m\u001b[0;34m.\u001b[0m\u001b[0marray\u001b[0m\u001b[0;34m(\u001b[0m\u001b[0;34m[\u001b[0m\u001b[0;36m1\u001b[0m\u001b[0;34m,\u001b[0m\u001b[0;36m2\u001b[0m\u001b[0;34m,\u001b[0m\u001b[0;36m3\u001b[0m\u001b[0;34m,\u001b[0m\u001b[0;36m4\u001b[0m\u001b[0;34m]\u001b[0m\u001b[0;34m,\u001b[0m\u001b[0;34m[\u001b[0m\u001b[0;36m1\u001b[0m\u001b[0;34m,\u001b[0m\u001b[0;36m2\u001b[0m\u001b[0;34m,\u001b[0m\u001b[0;36m3\u001b[0m\u001b[0;34m,\u001b[0m\u001b[0;36m4\u001b[0m\u001b[0;34m]\u001b[0m\u001b[0;34m)\u001b[0m\u001b[0;34m\u001b[0m\u001b[0;34m\u001b[0m\u001b[0m\n\u001b[1;32m      3\u001b[0m \u001b[0msadd2\u001b[0m \u001b[0;34m=\u001b[0m \u001b[0mg\u001b[0m \u001b[0;34m+\u001b[0m \u001b[0mf\u001b[0m\u001b[0;34m\u001b[0m\u001b[0;34m\u001b[0m\u001b[0m\n\u001b[1;32m      4\u001b[0m \u001b[0mprint\u001b[0m\u001b[0;34m(\u001b[0m\u001b[0msadd2\u001b[0m\u001b[0;34m)\u001b[0m\u001b[0;34m\u001b[0m\u001b[0;34m\u001b[0m\u001b[0m\n",
            "\u001b[0;31mTypeError\u001b[0m: Field elements must be 2- or 3-tuples, got '1'"
          ]
        }
      ]
    },
    {
      "cell_type": "code",
      "source": [
        "g = np.array([1,2,3,4],[1,2,3,4])\n",
        "f = np.array([1,2,3,4],[1,2,3,4])\n",
        "print(g)\n",
        "print()\n",
        "print(f)\n",
        "print()\n",
        "sadd2 = g + f\n",
        "print(sadd2)"
      ],
      "metadata": {
        "colab": {
          "base_uri": "https://localhost:8080/",
          "height": 235
        },
        "id": "cmdkNbUFVlUF",
        "outputId": "f1637880-b30b-4e94-d2e0-d1af69e0c169"
      },
      "execution_count": null,
      "outputs": [
        {
          "output_type": "error",
          "ename": "TypeError",
          "evalue": "ignored",
          "traceback": [
            "\u001b[0;31m---------------------------------------------------------------------------\u001b[0m",
            "\u001b[0;31mTypeError\u001b[0m                                 Traceback (most recent call last)",
            "\u001b[0;32m<ipython-input-52-75c30ff635b7>\u001b[0m in \u001b[0;36m<cell line: 1>\u001b[0;34m()\u001b[0m\n\u001b[0;32m----> 1\u001b[0;31m \u001b[0mg\u001b[0m \u001b[0;34m=\u001b[0m \u001b[0mnp\u001b[0m\u001b[0;34m.\u001b[0m\u001b[0marray\u001b[0m\u001b[0;34m(\u001b[0m\u001b[0;34m[\u001b[0m\u001b[0;36m1\u001b[0m\u001b[0;34m,\u001b[0m\u001b[0;36m2\u001b[0m\u001b[0;34m,\u001b[0m\u001b[0;36m3\u001b[0m\u001b[0;34m,\u001b[0m\u001b[0;36m4\u001b[0m\u001b[0;34m]\u001b[0m\u001b[0;34m,\u001b[0m\u001b[0;34m[\u001b[0m\u001b[0;36m1\u001b[0m\u001b[0;34m,\u001b[0m\u001b[0;36m2\u001b[0m\u001b[0;34m,\u001b[0m\u001b[0;36m3\u001b[0m\u001b[0;34m,\u001b[0m\u001b[0;36m4\u001b[0m\u001b[0;34m]\u001b[0m\u001b[0;34m)\u001b[0m\u001b[0;34m\u001b[0m\u001b[0;34m\u001b[0m\u001b[0m\n\u001b[0m\u001b[1;32m      2\u001b[0m \u001b[0mf\u001b[0m \u001b[0;34m=\u001b[0m \u001b[0mnp\u001b[0m\u001b[0;34m.\u001b[0m\u001b[0marray\u001b[0m\u001b[0;34m(\u001b[0m\u001b[0;34m[\u001b[0m\u001b[0;36m1\u001b[0m\u001b[0;34m,\u001b[0m\u001b[0;36m2\u001b[0m\u001b[0;34m,\u001b[0m\u001b[0;36m3\u001b[0m\u001b[0;34m,\u001b[0m\u001b[0;36m4\u001b[0m\u001b[0;34m]\u001b[0m\u001b[0;34m,\u001b[0m\u001b[0;34m[\u001b[0m\u001b[0;36m1\u001b[0m\u001b[0;34m,\u001b[0m\u001b[0;36m2\u001b[0m\u001b[0;34m,\u001b[0m\u001b[0;36m3\u001b[0m\u001b[0;34m,\u001b[0m\u001b[0;36m4\u001b[0m\u001b[0;34m]\u001b[0m\u001b[0;34m)\u001b[0m\u001b[0;34m\u001b[0m\u001b[0;34m\u001b[0m\u001b[0m\n\u001b[1;32m      3\u001b[0m \u001b[0mprint\u001b[0m\u001b[0;34m(\u001b[0m\u001b[0mg\u001b[0m\u001b[0;34m)\u001b[0m\u001b[0;34m\u001b[0m\u001b[0;34m\u001b[0m\u001b[0m\n\u001b[1;32m      4\u001b[0m \u001b[0mprint\u001b[0m\u001b[0;34m(\u001b[0m\u001b[0;34m)\u001b[0m\u001b[0;34m\u001b[0m\u001b[0;34m\u001b[0m\u001b[0m\n\u001b[1;32m      5\u001b[0m \u001b[0mprint\u001b[0m\u001b[0;34m(\u001b[0m\u001b[0mf\u001b[0m\u001b[0;34m)\u001b[0m\u001b[0;34m\u001b[0m\u001b[0;34m\u001b[0m\u001b[0m\n",
            "\u001b[0;31mTypeError\u001b[0m: Field elements must be 2- or 3-tuples, got '1'"
          ]
        }
      ]
    },
    {
      "cell_type": "code",
      "source": [
        "#ARITHMATIC FUNCTION"
      ],
      "metadata": {
        "id": "MV5alf5OZhok"
      },
      "execution_count": null,
      "outputs": []
    },
    {
      "cell_type": "code",
      "source": [
        "np = np.array([1,2,3,4,5,2,3])\n",
        "print(\"min: \",np.min(np),np.argrmin(np))\n",
        "print(\"max: \",np.max(np),np,argmax(np))"
      ],
      "metadata": {
        "colab": {
          "base_uri": "https://localhost:8080/",
          "height": 321
        },
        "id": "iz2WURfQZhqf",
        "outputId": "2a376391-05b7-4a0d-aa39-7baa0c07eedf"
      },
      "execution_count": null,
      "outputs": [
        {
          "output_type": "error",
          "ename": "TypeError",
          "evalue": "ignored",
          "traceback": [
            "\u001b[0;31m---------------------------------------------------------------------------\u001b[0m",
            "\u001b[0;31mTypeError\u001b[0m                                 Traceback (most recent call last)",
            "\u001b[0;32m<ipython-input-69-6ea9704884d0>\u001b[0m in \u001b[0;36m<cell line: 2>\u001b[0;34m()\u001b[0m\n\u001b[1;32m      1\u001b[0m \u001b[0mnp\u001b[0m \u001b[0;34m=\u001b[0m \u001b[0mnp\u001b[0m\u001b[0;34m.\u001b[0m\u001b[0marray\u001b[0m\u001b[0;34m(\u001b[0m\u001b[0;34m[\u001b[0m\u001b[0;36m1\u001b[0m\u001b[0;34m,\u001b[0m\u001b[0;36m2\u001b[0m\u001b[0;34m,\u001b[0m\u001b[0;36m3\u001b[0m\u001b[0;34m,\u001b[0m\u001b[0;36m4\u001b[0m\u001b[0;34m,\u001b[0m\u001b[0;36m5\u001b[0m\u001b[0;34m,\u001b[0m\u001b[0;36m2\u001b[0m\u001b[0;34m,\u001b[0m\u001b[0;36m3\u001b[0m\u001b[0;34m]\u001b[0m\u001b[0;34m)\u001b[0m\u001b[0;34m\u001b[0m\u001b[0;34m\u001b[0m\u001b[0m\n\u001b[0;32m----> 2\u001b[0;31m \u001b[0mprint\u001b[0m\u001b[0;34m(\u001b[0m\u001b[0;34m\"min: \"\u001b[0m\u001b[0;34m,\u001b[0m\u001b[0mnp\u001b[0m\u001b[0;34m.\u001b[0m\u001b[0mmin\u001b[0m\u001b[0;34m(\u001b[0m\u001b[0mnp\u001b[0m\u001b[0;34m)\u001b[0m\u001b[0;34m,\u001b[0m\u001b[0mnp\u001b[0m\u001b[0;34m.\u001b[0m\u001b[0margrmin\u001b[0m\u001b[0;34m(\u001b[0m\u001b[0mnp\u001b[0m\u001b[0;34m)\u001b[0m\u001b[0;34m)\u001b[0m\u001b[0;34m\u001b[0m\u001b[0;34m\u001b[0m\u001b[0m\n\u001b[0m\u001b[1;32m      3\u001b[0m \u001b[0mprint\u001b[0m\u001b[0;34m(\u001b[0m\u001b[0;34m\"max: \"\u001b[0m\u001b[0;34m,\u001b[0m\u001b[0mnp\u001b[0m\u001b[0;34m.\u001b[0m\u001b[0mmax\u001b[0m\u001b[0;34m(\u001b[0m\u001b[0mnp\u001b[0m\u001b[0;34m)\u001b[0m\u001b[0;34m,\u001b[0m\u001b[0mnp\u001b[0m\u001b[0;34m,\u001b[0m\u001b[0margmax\u001b[0m\u001b[0;34m(\u001b[0m\u001b[0mnp\u001b[0m\u001b[0;34m)\u001b[0m\u001b[0;34m)\u001b[0m\u001b[0;34m\u001b[0m\u001b[0;34m\u001b[0m\u001b[0m\n",
            "\u001b[0;32m/usr/local/lib/python3.10/dist-packages/numpy/core/_methods.py\u001b[0m in \u001b[0;36m_amin\u001b[0;34m(a, axis, out, keepdims, initial, where)\u001b[0m\n\u001b[1;32m     42\u001b[0m def _amin(a, axis=None, out=None, keepdims=False,\n\u001b[1;32m     43\u001b[0m           initial=_NoValue, where=True):\n\u001b[0;32m---> 44\u001b[0;31m     \u001b[0;32mreturn\u001b[0m \u001b[0mumr_minimum\u001b[0m\u001b[0;34m(\u001b[0m\u001b[0ma\u001b[0m\u001b[0;34m,\u001b[0m \u001b[0maxis\u001b[0m\u001b[0;34m,\u001b[0m \u001b[0;32mNone\u001b[0m\u001b[0;34m,\u001b[0m \u001b[0mout\u001b[0m\u001b[0;34m,\u001b[0m \u001b[0mkeepdims\u001b[0m\u001b[0;34m,\u001b[0m \u001b[0minitial\u001b[0m\u001b[0;34m,\u001b[0m \u001b[0mwhere\u001b[0m\u001b[0;34m)\u001b[0m\u001b[0;34m\u001b[0m\u001b[0;34m\u001b[0m\u001b[0m\n\u001b[0m\u001b[1;32m     45\u001b[0m \u001b[0;34m\u001b[0m\u001b[0m\n\u001b[1;32m     46\u001b[0m def _sum(a, axis=None, dtype=None, out=None, keepdims=False,\n",
            "\u001b[0;31mTypeError\u001b[0m: only integer scalar arrays can be converted to a scalar index"
          ]
        }
      ]
    },
    {
      "cell_type": "code",
      "source": [
        "sd = np.array([1,2,3,4,5],[4,8,7,5,5])\n",
        "print(np.min(sd,axis=1)) #row"
      ],
      "metadata": {
        "colab": {
          "base_uri": "https://localhost:8080/",
          "height": 182
        },
        "id": "GWl3FqqnZhsA",
        "outputId": "d8eb2843-3666-47a2-ca88-c35919f610cc"
      },
      "execution_count": null,
      "outputs": [
        {
          "output_type": "error",
          "ename": "TypeError",
          "evalue": "ignored",
          "traceback": [
            "\u001b[0;31m---------------------------------------------------------------------------\u001b[0m",
            "\u001b[0;31mTypeError\u001b[0m                                 Traceback (most recent call last)",
            "\u001b[0;32m<ipython-input-64-785dba2b9b0f>\u001b[0m in \u001b[0;36m<cell line: 1>\u001b[0;34m()\u001b[0m\n\u001b[0;32m----> 1\u001b[0;31m \u001b[0msd\u001b[0m \u001b[0;34m=\u001b[0m \u001b[0mnp\u001b[0m\u001b[0;34m.\u001b[0m\u001b[0marray\u001b[0m\u001b[0;34m(\u001b[0m\u001b[0;34m[\u001b[0m\u001b[0;36m1\u001b[0m\u001b[0;34m,\u001b[0m\u001b[0;36m2\u001b[0m\u001b[0;34m,\u001b[0m\u001b[0;36m3\u001b[0m\u001b[0;34m,\u001b[0m\u001b[0;36m4\u001b[0m\u001b[0;34m,\u001b[0m\u001b[0;36m5\u001b[0m\u001b[0;34m]\u001b[0m\u001b[0;34m,\u001b[0m\u001b[0;34m[\u001b[0m\u001b[0;36m4\u001b[0m\u001b[0;34m,\u001b[0m\u001b[0;36m8\u001b[0m\u001b[0;34m,\u001b[0m\u001b[0;36m7\u001b[0m\u001b[0;34m,\u001b[0m\u001b[0;36m5\u001b[0m\u001b[0;34m,\u001b[0m\u001b[0;36m5\u001b[0m\u001b[0;34m]\u001b[0m\u001b[0;34m)\u001b[0m\u001b[0;34m\u001b[0m\u001b[0;34m\u001b[0m\u001b[0m\n\u001b[0m\u001b[1;32m      2\u001b[0m \u001b[0mprint\u001b[0m\u001b[0;34m(\u001b[0m\u001b[0mnp\u001b[0m\u001b[0;34m.\u001b[0m\u001b[0mmin\u001b[0m\u001b[0;34m(\u001b[0m\u001b[0msd\u001b[0m\u001b[0;34m,\u001b[0m\u001b[0maxis\u001b[0m\u001b[0;34m=\u001b[0m\u001b[0;36m1\u001b[0m\u001b[0;34m)\u001b[0m\u001b[0;34m)\u001b[0m \u001b[0;31m#row\u001b[0m\u001b[0;34m\u001b[0m\u001b[0;34m\u001b[0m\u001b[0m\n",
            "\u001b[0;31mTypeError\u001b[0m: Field elements must be 2- or 3-tuples, got '4'"
          ]
        }
      ]
    },
    {
      "cell_type": "code",
      "source": [
        "sd1 = np.array([1,2,3,4,5],[4,8,7,5,5])\n",
        "print(np.min(sd1,axis=0)) #col\n"
      ],
      "metadata": {
        "colab": {
          "base_uri": "https://localhost:8080/",
          "height": 182
        },
        "id": "Mx_9fNnGZhuQ",
        "outputId": "98917645-c2d7-407e-a123-e32ceea327f6"
      },
      "execution_count": null,
      "outputs": [
        {
          "output_type": "error",
          "ename": "AttributeError",
          "evalue": "ignored",
          "traceback": [
            "\u001b[0;31m---------------------------------------------------------------------------\u001b[0m",
            "\u001b[0;31mAttributeError\u001b[0m                            Traceback (most recent call last)",
            "\u001b[0;32m<ipython-input-70-482ca2d817d6>\u001b[0m in \u001b[0;36m<cell line: 1>\u001b[0;34m()\u001b[0m\n\u001b[0;32m----> 1\u001b[0;31m \u001b[0msd1\u001b[0m \u001b[0;34m=\u001b[0m \u001b[0mnp\u001b[0m\u001b[0;34m.\u001b[0m\u001b[0marray\u001b[0m\u001b[0;34m(\u001b[0m\u001b[0;34m[\u001b[0m\u001b[0;36m1\u001b[0m\u001b[0;34m,\u001b[0m\u001b[0;36m2\u001b[0m\u001b[0;34m,\u001b[0m\u001b[0;36m3\u001b[0m\u001b[0;34m,\u001b[0m\u001b[0;36m4\u001b[0m\u001b[0;34m,\u001b[0m\u001b[0;36m5\u001b[0m\u001b[0;34m]\u001b[0m\u001b[0;34m,\u001b[0m\u001b[0;34m[\u001b[0m\u001b[0;36m4\u001b[0m\u001b[0;34m,\u001b[0m\u001b[0;36m8\u001b[0m\u001b[0;34m,\u001b[0m\u001b[0;36m7\u001b[0m\u001b[0;34m,\u001b[0m\u001b[0;36m5\u001b[0m\u001b[0;34m,\u001b[0m\u001b[0;36m5\u001b[0m\u001b[0;34m]\u001b[0m\u001b[0;34m)\u001b[0m\u001b[0;34m\u001b[0m\u001b[0;34m\u001b[0m\u001b[0m\n\u001b[0m\u001b[1;32m      2\u001b[0m \u001b[0mprint\u001b[0m\u001b[0;34m(\u001b[0m\u001b[0mnp\u001b[0m\u001b[0;34m.\u001b[0m\u001b[0mmin\u001b[0m\u001b[0;34m(\u001b[0m\u001b[0msd1\u001b[0m\u001b[0;34m,\u001b[0m\u001b[0maxis\u001b[0m\u001b[0;34m=\u001b[0m\u001b[0;36m0\u001b[0m\u001b[0;34m)\u001b[0m\u001b[0;34m)\u001b[0m \u001b[0;31m#col\u001b[0m\u001b[0;34m\u001b[0m\u001b[0;34m\u001b[0m\u001b[0m\n",
            "\u001b[0;31mAttributeError\u001b[0m: 'numpy.ndarray' object has no attribute 'array'"
          ]
        }
      ]
    },
    {
      "cell_type": "code",
      "source": [
        "as = np.array([1,2,3,4,5,2,3])\n",
        "print(\"min: \",np.min(as),np.agrmin(as))\n",
        "print(\"max: \",np.max(as),np,argmax(as))\n",
        "print(\"sqrt: \",np.sqrt(as))"
      ],
      "metadata": {
        "colab": {
          "base_uri": "https://localhost:8080/",
          "height": 130
        },
        "id": "L-demtrbZhv1",
        "outputId": "8167246a-b3d1-4b24-a598-e8e72379e52f"
      },
      "execution_count": null,
      "outputs": [
        {
          "output_type": "error",
          "ename": "SyntaxError",
          "evalue": "ignored",
          "traceback": [
            "\u001b[0;36m  File \u001b[0;32m\"<ipython-input-71-a5efcfb474dc>\"\u001b[0;36m, line \u001b[0;32m1\u001b[0m\n\u001b[0;31m    as = np.array([1,2,3,4,5,2,3])\u001b[0m\n\u001b[0m    ^\u001b[0m\n\u001b[0;31mSyntaxError\u001b[0m\u001b[0;31m:\u001b[0m invalid syntax\n"
          ]
        }
      ]
    },
    {
      "cell_type": "code",
      "source": [
        "ff = np.array([1,2,3])\n",
        "print(np.sin(ff))\n",
        "print(np.cos(ff))\n",
        "print(np.cumsum(ff))"
      ],
      "metadata": {
        "colab": {
          "base_uri": "https://localhost:8080/"
        },
        "id": "GJqjm5n1Zhx5",
        "outputId": "5368ba03-b400-459f-a239-527c89ca967c"
      },
      "execution_count": null,
      "outputs": [
        {
          "output_type": "stream",
          "name": "stdout",
          "text": [
            "[0.84147098 0.90929743 0.14112001]\n",
            "[ 0.54030231 -0.41614684 -0.9899925 ]\n",
            "[1 3 6]\n"
          ]
        }
      ]
    },
    {
      "cell_type": "code",
      "source": [
        "#SHAPE"
      ],
      "metadata": {
        "id": "_L1WJp8cIuPq"
      },
      "execution_count": null,
      "outputs": []
    },
    {
      "cell_type": "code",
      "source": [
        "import numpy as np\n",
        "cv = np.array([[1,2],[1,2]])\n",
        "print(cv)\n",
        "print()\n",
        "print(cv.shape)"
      ],
      "metadata": {
        "colab": {
          "base_uri": "https://localhost:8080/"
        },
        "id": "3mdWAyDbZhzv",
        "outputId": "1079a847-3c8d-4843-b841-3f8d5daf6636"
      },
      "execution_count": null,
      "outputs": [
        {
          "output_type": "stream",
          "name": "stdout",
          "text": [
            "[[1 2]\n",
            " [1 2]]\n",
            "\n",
            "(2, 2)\n"
          ]
        }
      ]
    },
    {
      "cell_type": "code",
      "source": [
        "cx = np.array([2,2,3,5], ndmin=4)\n",
        "print(cx)\n",
        "print(cx.ndim)\n",
        "print()\n",
        "print(cx.shape)"
      ],
      "metadata": {
        "colab": {
          "base_uri": "https://localhost:8080/"
        },
        "id": "_G1109pnZh3A",
        "outputId": "7a92cf06-ce8b-4bbc-b0c8-700430efe9de"
      },
      "execution_count": null,
      "outputs": [
        {
          "output_type": "stream",
          "name": "stdout",
          "text": [
            "[[[[2 2 3 5]]]]\n",
            "4\n",
            "\n",
            "(1, 1, 1, 4)\n"
          ]
        }
      ]
    },
    {
      "cell_type": "code",
      "source": [
        "#RESHAPE"
      ],
      "metadata": {
        "id": "0YoTdwJbZh5V"
      },
      "execution_count": null,
      "outputs": []
    },
    {
      "cell_type": "code",
      "source": [
        "nj = np.array([1,2,3,4,5,6])\n",
        "print(nj)\n",
        "print(nj.ndim)\n",
        "\n",
        "print()\n",
        "\n",
        "g = nj.reshape(3,2)\n",
        "print(g)\n",
        "print(g.ndim)"
      ],
      "metadata": {
        "colab": {
          "base_uri": "https://localhost:8080/"
        },
        "id": "iJWUAnxIZh7R",
        "outputId": "9e3f6538-16f9-4b8d-e3e3-9b62e6ea659c"
      },
      "execution_count": null,
      "outputs": [
        {
          "output_type": "stream",
          "name": "stdout",
          "text": [
            "[1 2 3 4 5 6]\n",
            "1\n",
            "\n",
            "[[1 2]\n",
            " [3 4]\n",
            " [5 6]]\n",
            "2\n"
          ]
        }
      ]
    },
    {
      "cell_type": "code",
      "source": [
        "nj2 = np.array([1,2,3,4,5,6,7,8,9,10,11,12])\n",
        "print(nj2)\n",
        "print(nj2.ndim)\n",
        "\n",
        "print()\n",
        "\n",
        "g2 = nj2.reshape(2,3,2)\n",
        "\n",
        "print(g2)\n",
        "print(g2.ndim)"
      ],
      "metadata": {
        "colab": {
          "base_uri": "https://localhost:8080/"
        },
        "id": "eF4opdIUZh-b",
        "outputId": "41fea2c4-2fb2-40aa-b9f9-f96bd863e5cb"
      },
      "execution_count": null,
      "outputs": [
        {
          "output_type": "stream",
          "name": "stdout",
          "text": [
            "[ 1  2  3  4  5  6  7  8  9 10 11 12]\n",
            "1\n",
            "\n",
            "[[[ 1  2]\n",
            "  [ 3  4]\n",
            "  [ 5  6]]\n",
            "\n",
            " [[ 7  8]\n",
            "  [ 9 10]\n",
            "  [11 12]]]\n",
            "3\n"
          ]
        }
      ]
    },
    {
      "cell_type": "code",
      "source": [
        "nj2 = np.array([1,2,3,4,5,6,7,8,9,10,11,12])\n",
        "print(nj2)\n",
        "print(nj2.ndim)\n",
        "\n",
        "print()\n",
        "\n",
        "g2 = nj2.reshape(2,3,2)\n",
        "\n",
        "print(g2)\n",
        "print(g2.ndim)\n",
        "\n",
        "print()\n",
        "\n",
        "one = g2.reshape(-1)\n",
        "print(one)\n",
        "print(one.ndim)"
      ],
      "metadata": {
        "colab": {
          "base_uri": "https://localhost:8080/"
        },
        "id": "Y8yPa90WZiAo",
        "outputId": "853aa89b-0e39-4ca6-8cd0-087b9380ac24"
      },
      "execution_count": null,
      "outputs": [
        {
          "output_type": "stream",
          "name": "stdout",
          "text": [
            "[ 1  2  3  4  5  6  7  8  9 10 11 12]\n",
            "1\n",
            "\n",
            "[[[ 1  2]\n",
            "  [ 3  4]\n",
            "  [ 5  6]]\n",
            "\n",
            " [[ 7  8]\n",
            "  [ 9 10]\n",
            "  [11 12]]]\n",
            "3\n",
            "\n",
            "[ 1  2  3  4  5  6  7  8  9 10 11 12]\n",
            "1\n"
          ]
        }
      ]
    },
    {
      "cell_type": "code",
      "source": [
        "#BROADCASTING"
      ],
      "metadata": {
        "id": "shYKqVduZiCo"
      },
      "execution_count": null,
      "outputs": []
    },
    {
      "cell_type": "code",
      "source": [
        "#error due to shape diff\n",
        "ss = np.array([1,2,3,4])\n",
        "\n",
        "dd = np.array([1,2,3])\n",
        "\n",
        "print( ss + dd)"
      ],
      "metadata": {
        "colab": {
          "base_uri": "https://localhost:8080/",
          "height": 200
        },
        "id": "saVcLWotZiEg",
        "outputId": "08985418-9e16-4a8f-ba03-584c3fe892d1"
      },
      "execution_count": null,
      "outputs": [
        {
          "output_type": "error",
          "ename": "ValueError",
          "evalue": "ignored",
          "traceback": [
            "\u001b[0;31m---------------------------------------------------------------------------\u001b[0m",
            "\u001b[0;31mValueError\u001b[0m                                Traceback (most recent call last)",
            "\u001b[0;32m<ipython-input-79-6539d8d54479>\u001b[0m in \u001b[0;36m<cell line: 5>\u001b[0;34m()\u001b[0m\n\u001b[1;32m      3\u001b[0m \u001b[0mdd\u001b[0m \u001b[0;34m=\u001b[0m \u001b[0mnp\u001b[0m\u001b[0;34m.\u001b[0m\u001b[0marray\u001b[0m\u001b[0;34m(\u001b[0m\u001b[0;34m[\u001b[0m\u001b[0;36m1\u001b[0m\u001b[0;34m,\u001b[0m\u001b[0;36m2\u001b[0m\u001b[0;34m,\u001b[0m\u001b[0;36m3\u001b[0m\u001b[0;34m]\u001b[0m\u001b[0;34m)\u001b[0m\u001b[0;34m\u001b[0m\u001b[0;34m\u001b[0m\u001b[0m\n\u001b[1;32m      4\u001b[0m \u001b[0;34m\u001b[0m\u001b[0m\n\u001b[0;32m----> 5\u001b[0;31m \u001b[0mprint\u001b[0m\u001b[0;34m(\u001b[0m \u001b[0mss\u001b[0m \u001b[0;34m+\u001b[0m \u001b[0mdd\u001b[0m\u001b[0;34m)\u001b[0m\u001b[0;34m\u001b[0m\u001b[0;34m\u001b[0m\u001b[0m\n\u001b[0m",
            "\u001b[0;31mValueError\u001b[0m: operands could not be broadcast together with shapes (4,) (3,) "
          ]
        }
      ]
    },
    {
      "cell_type": "code",
      "source": [
        "ss1 = np.array([1,2,3,4])\n",
        "\n",
        "dd1 = np.array([1,2,3,4])\n",
        "\n",
        "print( ss1 + dd1)"
      ],
      "metadata": {
        "colab": {
          "base_uri": "https://localhost:8080/"
        },
        "id": "AGzgSMCiZiGg",
        "outputId": "24fae810-5195-4bc2-a68f-0a32556c67d4"
      },
      "execution_count": null,
      "outputs": [
        {
          "output_type": "stream",
          "name": "stdout",
          "text": [
            "[2 4 6 8]\n"
          ]
        }
      ]
    },
    {
      "cell_type": "code",
      "source": [
        "ss2 = np.array([1,2,3,4])\n",
        "print(ss2.shape)\n",
        "\n",
        "dd2 = np.array([[1],[2],[3]])\n",
        "print(dd2.shape)\n",
        "print()\n",
        "print(ss2)\n",
        "print()\n",
        "print(dd2)\n",
        "print()\n",
        "print( ss2 + dd2)"
      ],
      "metadata": {
        "colab": {
          "base_uri": "https://localhost:8080/"
        },
        "id": "90n7iNtRNkfU",
        "outputId": "56f257e1-981b-4896-e303-92d10c13bf0a"
      },
      "execution_count": null,
      "outputs": [
        {
          "output_type": "stream",
          "name": "stdout",
          "text": [
            "(4,)\n",
            "(3, 1)\n",
            "\n",
            "[1 2 3 4]\n",
            "\n",
            "[[1]\n",
            " [2]\n",
            " [3]]\n",
            "\n",
            "[[2 3 4 5]\n",
            " [3 4 5 6]\n",
            " [4 5 6 7]]\n"
          ]
        }
      ]
    },
    {
      "cell_type": "code",
      "source": [
        "#INDEXING"
      ],
      "metadata": {
        "id": "QE3EoBGsOrwh"
      },
      "execution_count": null,
      "outputs": []
    },
    {
      "cell_type": "code",
      "source": [
        "import numpy as np\n",
        "zx = np.array([5,8,9,7])\n",
        "#              0,1,2,3\n",
        "#            -4,-3,-2,-1\n",
        "print(zx[1])\n",
        "print(zx[-2])"
      ],
      "metadata": {
        "id": "g-pP6cZhSikV",
        "colab": {
          "base_uri": "https://localhost:8080/"
        },
        "outputId": "fcfea1d5-9f3a-440f-db2c-ae9a5728c32b"
      },
      "execution_count": null,
      "outputs": [
        {
          "output_type": "stream",
          "name": "stdout",
          "text": [
            "8\n",
            "9\n"
          ]
        }
      ]
    },
    {
      "cell_type": "code",
      "source": [
        "ww = np.array([[9,7,8],[5,8,7]])\n",
        "\n",
        "print(ww)\n",
        "print(ww.ndim)\n",
        "print()\n",
        "print(ww[0,2])\n"
      ],
      "metadata": {
        "id": "lzDp7PNBSivt",
        "colab": {
          "base_uri": "https://localhost:8080/"
        },
        "outputId": "21d6c830-c41c-473a-86e3-7b72b20e9619"
      },
      "execution_count": null,
      "outputs": [
        {
          "output_type": "stream",
          "name": "stdout",
          "text": [
            "[[9 7 8]\n",
            " [5 8 7]]\n",
            "2\n",
            "\n",
            "8\n"
          ]
        }
      ]
    },
    {
      "cell_type": "code",
      "source": [
        "ww1 = np.array([[[9,7],[5,7]]])\n",
        "\n",
        "print(ww1)\n",
        "print()\n",
        "print(ww1.ndim)\n",
        "print()\n",
        "print(ww1[0,1,1])\n"
      ],
      "metadata": {
        "id": "FoT9RXnmSi4I",
        "colab": {
          "base_uri": "https://localhost:8080/"
        },
        "outputId": "9c4749c8-315d-413d-f758-f065a39241c8"
      },
      "execution_count": null,
      "outputs": [
        {
          "output_type": "stream",
          "name": "stdout",
          "text": [
            "[[[9 7]\n",
            "  [5 7]]]\n",
            "\n",
            "3\n",
            "\n",
            "7\n"
          ]
        }
      ]
    },
    {
      "cell_type": "code",
      "source": [
        "#SLICING"
      ],
      "metadata": {
        "id": "saFMFd8gSi_4"
      },
      "execution_count": null,
      "outputs": []
    },
    {
      "cell_type": "code",
      "source": [
        "import numpy as np\n",
        "ee = np.array([1,2,3,4,5,6,7])\n",
        "#              0,1,2,3,4,5,6\n",
        "print(ee)\n",
        "print(\"2 to 5 : \",ee[1:5])\n",
        "print()\n",
        "print(\"2 to end:\",ee[1:])\n",
        "print()\n",
        "print(\"start to 5: \",ee[:5])\n",
        "print()\n",
        "print(\"stop :\",ee[::2])\n",
        "print()\n",
        "print(\"stop: \", ee[1:6:2])\n",
        "print()"
      ],
      "metadata": {
        "id": "opIam05qSjD0",
        "colab": {
          "base_uri": "https://localhost:8080/"
        },
        "outputId": "a6f420b4-27ef-479c-c244-161828803227"
      },
      "execution_count": null,
      "outputs": [
        {
          "output_type": "stream",
          "name": "stdout",
          "text": [
            "[1 2 3 4 5 6 7]\n",
            "2 to 5 :  [2 3 4 5]\n",
            "\n",
            "2 to end: [2 3 4 5 6 7]\n",
            "\n",
            "start to 5:  [1 2 3 4 5]\n",
            "\n",
            "stop : [1 3 5 7]\n",
            "\n",
            "stop:  [2 4 6]\n",
            "\n"
          ]
        }
      ]
    },
    {
      "cell_type": "code",
      "source": [
        "tt = np.array([[1,2,3,4],[5,6,7,8],[9,10,11,12]])\n",
        "\n",
        "print(tt)\n",
        "print()\n",
        "print(\"8 to 5 :\",tt[1,1:])"
      ],
      "metadata": {
        "id": "LMsvXRUcSjHd",
        "colab": {
          "base_uri": "https://localhost:8080/"
        },
        "outputId": "9c15b552-2b5a-4ca0-870d-48c5f41bc8f6"
      },
      "execution_count": null,
      "outputs": [
        {
          "output_type": "stream",
          "name": "stdout",
          "text": [
            "[[ 1  2  3  4]\n",
            " [ 5  6  7  8]\n",
            " [ 9 10 11 12]]\n",
            "\n",
            "8 to 5 : [6 7 8]\n"
          ]
        }
      ]
    },
    {
      "cell_type": "code",
      "source": [
        "#COPY VS VIEW"
      ],
      "metadata": {
        "id": "6xUVpvBcSjLJ"
      },
      "execution_count": null,
      "outputs": []
    },
    {
      "cell_type": "code",
      "source": [
        "import numpy as np\n",
        "vv = np.array([1,2,3,4])\n",
        "co = vv.copy()\n",
        "\n",
        "print(\"var:\",vv)\n",
        "print(\"Copy:\",co)"
      ],
      "metadata": {
        "id": "fxdHiL3FSjPQ",
        "colab": {
          "base_uri": "https://localhost:8080/"
        },
        "outputId": "635a296e-eccd-4954-95c7-62840ac33b44"
      },
      "execution_count": null,
      "outputs": [
        {
          "output_type": "stream",
          "name": "stdout",
          "text": [
            "var: [1 2 3 4]\n",
            "Copy: [1 2 3 4]\n"
          ]
        }
      ]
    },
    {
      "cell_type": "code",
      "source": [
        "v = np.array([1,2,3,4])\n",
        "vi = v.view()\n",
        "\n",
        "print(\"v:\",v)\n",
        "print(\"view:\",vi)"
      ],
      "metadata": {
        "id": "zKUtdvqTSjSZ",
        "colab": {
          "base_uri": "https://localhost:8080/"
        },
        "outputId": "55044610-1d62-432f-8086-2a3ed715328d"
      },
      "execution_count": null,
      "outputs": [
        {
          "output_type": "stream",
          "name": "stdout",
          "text": [
            "v: [1 2 3 4]\n",
            "view: [1 2 3 4]\n"
          ]
        }
      ]
    },
    {
      "cell_type": "code",
      "source": [
        "#JOIN AND SPLIT"
      ],
      "metadata": {
        "id": "DhtGRLFXSjWk"
      },
      "execution_count": null,
      "outputs": []
    },
    {
      "cell_type": "code",
      "source": [
        "import numpy as np\n",
        "\n",
        "cat = np.array([1,2,3,4])\n",
        "cat2 = np.array([5,6,7,8])\n",
        "\n",
        "ar = np.concatenate((cat,cat2))\n",
        "print(ar)"
      ],
      "metadata": {
        "id": "uFNIrpBiSjZT",
        "colab": {
          "base_uri": "https://localhost:8080/"
        },
        "outputId": "0cf09e77-bcec-499c-fef2-2f44802a9f7b"
      },
      "execution_count": null,
      "outputs": [
        {
          "output_type": "stream",
          "name": "stdout",
          "text": [
            "[1 2 3 4 5 6 7 8]\n"
          ]
        }
      ]
    },
    {
      "cell_type": "code",
      "source": [
        "from numpy.core.multiarray import concatenate\n",
        "sui = np.array([[1,2],[4,5]])\n",
        "sui1 = np.array([[5,4],[5,8]])\n",
        "\n",
        "ar_sui = np.concatenate((sui,sui1),axis=0)\n",
        "print(sui)\n",
        "print()\n",
        "print(sui1)\n",
        "print()\n",
        "print(ar_sui)"
      ],
      "metadata": {
        "colab": {
          "base_uri": "https://localhost:8080/"
        },
        "id": "V9CMzzejiP_t",
        "outputId": "b9a81af2-3a8b-47e5-b189-c85eadae4957"
      },
      "execution_count": null,
      "outputs": [
        {
          "output_type": "stream",
          "name": "stdout",
          "text": [
            "[[1 2]\n",
            " [4 5]]\n",
            "\n",
            "[[5 4]\n",
            " [5 8]]\n",
            "\n",
            "[[1 2]\n",
            " [4 5]\n",
            " [5 4]\n",
            " [5 8]]\n"
          ]
        }
      ]
    },
    {
      "cell_type": "code",
      "source": [
        "ni = np.array([1,2,3,4])\n",
        "nii = np.array([5,6,7,8])\n",
        "a_ni = np.stack((ni,nii),axis = 1)\n",
        "print(a_ni)"
      ],
      "metadata": {
        "colab": {
          "base_uri": "https://localhost:8080/"
        },
        "id": "a5Tmi8JciQCv",
        "outputId": "a4beaff1-9f90-4acc-f8c2-e7c98312e6f2"
      },
      "execution_count": null,
      "outputs": [
        {
          "output_type": "stream",
          "name": "stdout",
          "text": [
            "[[1 5]\n",
            " [2 6]\n",
            " [3 7]\n",
            " [4 8]]\n"
          ]
        }
      ]
    },
    {
      "cell_type": "code",
      "source": [
        "niii = np.array([1,2,3,4])\n",
        "niiii = np.array([5,6,7,8])\n",
        "a_niii = np.stack((niii,niiii),axis = 1)\n",
        "a_niii1 = np.hstack((niii,niiii)) #row\n",
        "a_niii2 = np.vstack((niii,niiii)) #col\n",
        "a_niii3 = np.dstack((niii,niiii)) #height\n",
        "print(a_niii)\n",
        "print()\n",
        "print(a_niii1)\n",
        "print()\n",
        "print(a_niii2)\n",
        "print()\n",
        "print(a_niii3)"
      ],
      "metadata": {
        "colab": {
          "base_uri": "https://localhost:8080/"
        },
        "id": "iCAcgeBdiQFF",
        "outputId": "35b4917b-65dd-4d67-ea77-4e6c0b997c61"
      },
      "execution_count": null,
      "outputs": [
        {
          "output_type": "stream",
          "name": "stdout",
          "text": [
            "[[1 5]\n",
            " [2 6]\n",
            " [3 7]\n",
            " [4 8]]\n",
            "\n",
            "[1 2 3 4 5 6 7 8]\n",
            "\n",
            "[[1 2 3 4]\n",
            " [5 6 7 8]]\n",
            "\n",
            "[[[1 5]\n",
            "  [2 6]\n",
            "  [3 7]\n",
            "  [4 8]]]\n"
          ]
        }
      ]
    },
    {
      "cell_type": "code",
      "source": [
        "#SPLIT"
      ],
      "metadata": {
        "id": "LNq4gPDNiQHy"
      },
      "execution_count": null,
      "outputs": []
    },
    {
      "cell_type": "code",
      "source": [
        "import numpy as np\n",
        "df = np.array([1,2,3,4,5,6,7,8,9,10])\n",
        "\n",
        "print(df)\n",
        "\n",
        "a1 = np.array_split(df,3)\n",
        "\n",
        "print()\n",
        "print(a1)\n",
        "print(a1[0])\n",
        "print(type(a1))"
      ],
      "metadata": {
        "colab": {
          "base_uri": "https://localhost:8080/"
        },
        "id": "VmgIKKROiQKQ",
        "outputId": "6c77498a-436a-429c-f2fe-c0074fd8882b"
      },
      "execution_count": null,
      "outputs": [
        {
          "output_type": "stream",
          "name": "stdout",
          "text": [
            "[ 1  2  3  4  5  6  7  8  9 10]\n",
            "\n",
            "[array([1, 2, 3, 4]), array([5, 6, 7]), array([ 8,  9, 10])]\n",
            "[1 2 3 4]\n",
            "<class 'list'>\n"
          ]
        }
      ]
    },
    {
      "cell_type": "code",
      "source": [
        "df1 = np.array([[1,2,3,4],[5,6,7,8,9,10]])\n",
        "\n",
        "print(df1)\n",
        "\n",
        "a11 = np.array_split(df1,3)\n",
        "\n",
        "print()\n",
        "print(a11)\n",
        "print()\n",
        "print(a11[0])\n",
        "print()\n",
        "print(type(a11))\n",
        "print()"
      ],
      "metadata": {
        "colab": {
          "base_uri": "https://localhost:8080/"
        },
        "id": "Ns8rciRZiQMl",
        "outputId": "91ff10e9-54b8-452c-e3c1-8d54c345a3d4"
      },
      "execution_count": null,
      "outputs": [
        {
          "output_type": "stream",
          "name": "stdout",
          "text": [
            "[list([1, 2, 3, 4]) list([5, 6, 7, 8, 9, 10])]\n",
            "\n",
            "[array([list([1, 2, 3, 4])], dtype=object), array([list([5, 6, 7, 8, 9, 10])], dtype=object), array([], dtype=object)]\n",
            "\n",
            "[list([1, 2, 3, 4])]\n",
            "\n",
            "<class 'list'>\n",
            "\n"
          ]
        },
        {
          "output_type": "stream",
          "name": "stderr",
          "text": [
            "<ipython-input-111-f0b24be86c99>:1: VisibleDeprecationWarning: Creating an ndarray from ragged nested sequences (which is a list-or-tuple of lists-or-tuples-or ndarrays with different lengths or shapes) is deprecated. If you meant to do this, you must specify 'dtype=object' when creating the ndarray.\n",
            "  df1 = np.array([[1,2,3,4],[5,6,7,8,9,10]])\n"
          ]
        }
      ]
    },
    {
      "cell_type": "code",
      "source": [
        "#SEARCH"
      ],
      "metadata": {
        "id": "goDQwLoOiQRF"
      },
      "execution_count": null,
      "outputs": []
    },
    {
      "cell_type": "code",
      "source": [
        "import numpy as np\n",
        "bn = np.array([1,2,3,4,5,6,2,8,2,10])\n",
        "\n",
        "cx = np.where( bn == 2)\n",
        "\n",
        "print(cx)"
      ],
      "metadata": {
        "colab": {
          "base_uri": "https://localhost:8080/"
        },
        "id": "TH0xLDTKiQS9",
        "outputId": "120dca0c-451a-4e06-c67e-71f7b7728127"
      },
      "execution_count": null,
      "outputs": [
        {
          "output_type": "stream",
          "name": "stdout",
          "text": [
            "(array([1, 6, 8]),)\n"
          ]
        }
      ]
    },
    {
      "cell_type": "code",
      "source": [],
      "metadata": {
        "id": "rQtzPQ_0iQVi"
      },
      "execution_count": null,
      "outputs": []
    },
    {
      "cell_type": "code",
      "source": [],
      "metadata": {
        "id": "gPtv3vq385NC"
      },
      "execution_count": null,
      "outputs": []
    },
    {
      "cell_type": "code",
      "source": [],
      "metadata": {
        "id": "Qe7WW8Vz85PV"
      },
      "execution_count": null,
      "outputs": []
    },
    {
      "cell_type": "code",
      "source": [],
      "metadata": {
        "id": "hFvaHv8Q85RP"
      },
      "execution_count": null,
      "outputs": []
    },
    {
      "cell_type": "code",
      "source": [],
      "metadata": {
        "id": "oAZtvcbg85Td"
      },
      "execution_count": null,
      "outputs": []
    },
    {
      "cell_type": "code",
      "source": [],
      "metadata": {
        "id": "TZH-InUX85Wo"
      },
      "execution_count": null,
      "outputs": []
    },
    {
      "cell_type": "code",
      "source": [],
      "metadata": {
        "id": "ajuu_cHHiQYo"
      },
      "execution_count": null,
      "outputs": []
    },
    {
      "cell_type": "code",
      "source": [],
      "metadata": {
        "id": "bD0oGFmMiQbE"
      },
      "execution_count": null,
      "outputs": []
    },
    {
      "cell_type": "code",
      "source": [],
      "metadata": {
        "id": "rnKNUcVaiQek"
      },
      "execution_count": null,
      "outputs": []
    },
    {
      "cell_type": "code",
      "source": [],
      "metadata": {
        "id": "gADdcLfiSjdE"
      },
      "execution_count": null,
      "outputs": []
    }
  ]
}